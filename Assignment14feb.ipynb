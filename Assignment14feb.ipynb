{
 "cells": [
  {
   "cell_type": "markdown",
   "id": "f4ce5467-ca86-4076-b864-1f163ada4a75",
   "metadata": {},
   "source": [
    "Q1). What is multithreading in python? Why is it used? Name the module used to handle threads in python"
   ]
  },
  {
   "cell_type": "markdown",
   "id": "10830c8b-cbb3-4e70-9bdf-8ebadcd3cd12",
   "metadata": {},
   "source": [
    "Multithreading in Python programming is a well-known technique in which multiple threads in a process share their data space with the main thread which makes information sharing and communication within threads easy and efficient.\n",
    "Multithreading allows you to break down an application into multiple sub-tasks and run these tasks simultaneously. If you use multithreading properly, your application speed, performance, and rendering can all be improved.It ensures effective utilization of computer system resources.Multithreaded applications are more responsive.\n",
    "\n",
    "The threading module is used to handle threads in python which exposes all the methods of the thread module and provides some additional methods"
   ]
  },
  {
   "cell_type": "markdown",
   "id": "8e33adcf-fc2b-47d7-bf5d-2265737d7ae1",
   "metadata": {},
   "source": [
    "Q2 Why threading module used? rite the use of the following functions:\n",
    "1 activeCount()\n",
    "2 currentThread()\n",
    "3 enumerate()"
   ]
  },
  {
   "cell_type": "markdown",
   "id": "ad4560a0-77be-4d52-8976-7c06d460cbb2",
   "metadata": {},
   "source": [
    "Threading module is used for creating, controlling and managing threads in python.\n",
    "\n",
    "activeCount() − This returns the number of active thread objects.\n",
    "currentThread() − This returns the number of objects that are under the thread control of the caller.\n",
    "enumerate() −This returns the list of all thread objects that are presently active"
   ]
  },
  {
   "cell_type": "code",
   "execution_count": null,
   "id": "86500fc3-72a6-4655-9dac-2b0b32f123c5",
   "metadata": {},
   "outputs": [],
   "source": [
    "Q3. Explain the following functions:\n",
    "1 run()\n",
    "2 start()\n",
    "3 join()\n",
    "4 isAlive()"
   ]
  },
  {
   "cell_type": "markdown",
   "id": "95922c3f-f958-434a-a6b6-487ee13ee6d6",
   "metadata": {},
   "source": [
    "1.run() - A run() method is used to define a thread's activity and can be overridden by a class that extends the threads class.\n",
    "2.start()-A start() method is used to initiate the activity of a thread. And it calls only once for each thread so that the execution of the thread can begin.\n",
    "3.join() -A join() method is used to block the execution of another code until the thread terminates.\n",
    "4.isAlive()-The isAlive() method checks whether a thread is still executing."
   ]
  },
  {
   "cell_type": "markdown",
   "id": "63fc5782-499a-46ad-86de-c50247e303ab",
   "metadata": {},
   "source": [
    "Q4. Write a python program to create two threads. Thread one must print the list of squares and thread\n",
    "two must print the list of cubes."
   ]
  },
  {
   "cell_type": "code",
   "execution_count": 15,
   "id": "53eefc3a-f691-4379-b5a1-d86834e7465c",
   "metadata": {},
   "outputs": [
    {
     "name": "stdin",
     "output_type": "stream",
     "text": [
      "enter 11\n"
     ]
    }
   ],
   "source": [
    "import threading\n",
    "a=int(input(\"enter\"))\n",
    "b=[]\n",
    "c=[]\n",
    "def sq(n):\n",
    "    for i in range(n):\n",
    "        b.append(i*i)\n",
    "    print(b)\n",
    "def cub(n):\n",
    "    for i in range(n):\n",
    "        c.append(i*i*i)\n",
    "    print(c)\n",
    "    \n",
    "thread1=[threading.Thread(target=sq,args=(a,))]\n",
    "thread2=[threading.Thread(target=cub,args=(a,))]"
   ]
  },
  {
   "cell_type": "code",
   "execution_count": 16,
   "id": "26c2acf5-0989-425c-a760-3f914ec41c77",
   "metadata": {},
   "outputs": [
    {
     "name": "stdout",
     "output_type": "stream",
     "text": [
      "[0, 1, 4, 9, 16, 25, 36, 49, 64, 81, 100]\n",
      "[0, 1, 8, 27, 64, 125, 216, 343, 512, 729, 1000]\n"
     ]
    }
   ],
   "source": [
    "for i in thread1:\n",
    "    i.start()\n",
    "for i in thread2:\n",
    "    i.start()"
   ]
  },
  {
   "cell_type": "markdown",
   "id": "d5a93594-5063-449a-8166-e01502a51f81",
   "metadata": {},
   "source": [
    "Q5. State advantages and disadvantages of multithreading"
   ]
  },
  {
   "cell_type": "markdown",
   "id": "ca8df7df-88eb-48f4-81d2-774c1914ff4b",
   "metadata": {},
   "source": [
    "Advantages of Multithreading \n",
    "\n",
    "1.Python multithreading enables efficient utilization of the resources as the threads share the data space and memory.\n",
    "\n",
    "2.Multithreading in Python allows the concurrent and parallel occurrence of various tasks.\n",
    "\n",
    "3.It causes a reduction in time consumption or response time, thereby increasing the performance.\n",
    "\n",
    "Disadvantages of Multi-threading\n",
    "1.Increases the complexity of the program.\n",
    "\n",
    "2.Synchronization of shared resources (objects, data) is necessary.\n",
    "\n",
    "3.Difficult to debug unpredictable results\n",
    "\n",
    "4.Constructing and synchronizing threads is CPU/memory intensive."
   ]
  },
  {
   "cell_type": "markdown",
   "id": "936b578e-3c20-4430-b4d0-a4d0058e4a9d",
   "metadata": {},
   "source": [
    "Q6. Explain deadlocks and race conditions."
   ]
  },
  {
   "cell_type": "markdown",
   "id": "11205c21-b52e-4f6b-b2ca-88526d191e80",
   "metadata": {},
   "source": [
    "Deadlock is a situation where a set of processes are blocked because each process is holding a resource and waiting for another resource acquired by some other process. \n",
    "\n",
    "Race condition occurs when multiple threads read and write the same variable i.e. they have access to some shared data and they try to change it at the same time. In such a scenario threads are “racing” each other to access/change the data."
   ]
  },
  {
   "cell_type": "code",
   "execution_count": null,
   "id": "560e48a5-ebe4-4480-a0e6-fd57e594b1f7",
   "metadata": {},
   "outputs": [],
   "source": [
    "\n"
   ]
  },
  {
   "cell_type": "code",
   "execution_count": null,
   "id": "1b6efbfe-db0a-4ba6-922d-8712e8ad9525",
   "metadata": {},
   "outputs": [],
   "source": []
  }
 ],
 "metadata": {
  "kernelspec": {
   "display_name": "Python 3 (ipykernel)",
   "language": "python",
   "name": "python3"
  },
  "language_info": {
   "codemirror_mode": {
    "name": "ipython",
    "version": 3
   },
   "file_extension": ".py",
   "mimetype": "text/x-python",
   "name": "python",
   "nbconvert_exporter": "python",
   "pygments_lexer": "ipython3",
   "version": "3.10.8"
  }
 },
 "nbformat": 4,
 "nbformat_minor": 5
}
